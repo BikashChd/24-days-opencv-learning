{
 "cells": [
  {
   "cell_type": "markdown",
   "metadata": {},
   "source": [
    "## How to split image in single channel and merge multiple single channel"
   ]
  },
  {
   "cell_type": "code",
   "execution_count": 1,
   "metadata": {},
   "outputs": [
    {
     "name": "stderr",
     "output_type": "stream",
     "text": [
      "qt.qpa.plugin: Could not find the Qt platform plugin \"wayland\" in \"/home/bikash/anaconda3/lib/python3.9/site-packages/cv2/qt/plugins\"\n",
      "Qt: Session management error: Could not open network socket\n"
     ]
    }
   ],
   "source": [
    "import numpy as np \n",
    "import cv2\n",
    "\n",
    "img=cv2.imread('images/luffy1.jpg')\n",
    "img=cv2.resize(img,(1280,720))\n",
    "\n",
    "cv2.imshow(\"image\",img)\n",
    "cv2.waitKey(0)\n",
    "cv2.destroyAllWindows()"
   ]
  },
  {
   "cell_type": "code",
   "execution_count": 2,
   "metadata": {},
   "outputs": [
    {
     "data": {
      "text/plain": [
       "array([[[192, 183, 180],\n",
       "        [191, 182, 179],\n",
       "        [192, 183, 180],\n",
       "        ...,\n",
       "        [  1,   1,   1],\n",
       "        [  1,   1,   1],\n",
       "        [  1,   1,   1]],\n",
       "\n",
       "       [[192, 183, 180],\n",
       "        [191, 182, 179],\n",
       "        [192, 183, 180],\n",
       "        ...,\n",
       "        [  1,   1,   1],\n",
       "        [  1,   1,   1],\n",
       "        [  1,   1,   1]],\n",
       "\n",
       "       [[192, 183, 180],\n",
       "        [191, 182, 179],\n",
       "        [192, 183, 180],\n",
       "        ...,\n",
       "        [  1,   1,   1],\n",
       "        [  1,   1,   1],\n",
       "        [  1,   1,   1]],\n",
       "\n",
       "       ...,\n",
       "\n",
       "       [[ 23,  20,  42],\n",
       "        [ 23,  20,  42],\n",
       "        [ 23,  20,  42],\n",
       "        ...,\n",
       "        [ 82,  87,  90],\n",
       "        [ 82,  87,  90],\n",
       "        [ 82,  87,  90]],\n",
       "\n",
       "       [[ 23,  20,  42],\n",
       "        [ 23,  20,  42],\n",
       "        [ 23,  20,  42],\n",
       "        ...,\n",
       "        [ 82,  87,  90],\n",
       "        [ 82,  87,  90],\n",
       "        [ 82,  87,  90]],\n",
       "\n",
       "       [[ 23,  20,  42],\n",
       "        [ 23,  20,  42],\n",
       "        [ 23,  20,  42],\n",
       "        ...,\n",
       "        [ 84,  89,  92],\n",
       "        [ 84,  89,  92],\n",
       "        [ 84,  89,  92]]], dtype=uint8)"
      ]
     },
     "execution_count": 2,
     "metadata": {},
     "output_type": "execute_result"
    }
   ],
   "source": [
    "# split image using numpy indexing\n",
    "img"
   ]
  },
  {
   "cell_type": "code",
   "execution_count": 3,
   "metadata": {},
   "outputs": [
    {
     "data": {
      "text/plain": [
       "(720, 1280, 3)"
      ]
     },
     "execution_count": 3,
     "metadata": {},
     "output_type": "execute_result"
    }
   ],
   "source": [
    "img.shape"
   ]
  },
  {
   "cell_type": "code",
   "execution_count": 4,
   "metadata": {},
   "outputs": [
    {
     "data": {
      "text/plain": [
       "array([[192, 191, 192, ...,   1,   1,   1],\n",
       "       [192, 191, 192, ...,   1,   1,   1],\n",
       "       [192, 191, 192, ...,   1,   1,   1],\n",
       "       ...,\n",
       "       [ 23,  23,  23, ...,  82,  82,  82],\n",
       "       [ 23,  23,  23, ...,  82,  82,  82],\n",
       "       [ 23,  23,  23, ...,  84,  84,  84]], dtype=uint8)"
      ]
     },
     "execution_count": 4,
     "metadata": {},
     "output_type": "execute_result"
    }
   ],
   "source": [
    "# intensity of blue color\n",
    "img[:,:,0]"
   ]
  },
  {
   "cell_type": "code",
   "execution_count": 5,
   "metadata": {},
   "outputs": [
    {
     "data": {
      "text/plain": [
       "array([[183, 182, 183, ...,   1,   1,   1],\n",
       "       [183, 182, 183, ...,   1,   1,   1],\n",
       "       [183, 182, 183, ...,   1,   1,   1],\n",
       "       ...,\n",
       "       [ 20,  20,  20, ...,  87,  87,  87],\n",
       "       [ 20,  20,  20, ...,  87,  87,  87],\n",
       "       [ 20,  20,  20, ...,  89,  89,  89]], dtype=uint8)"
      ]
     },
     "execution_count": 5,
     "metadata": {},
     "output_type": "execute_result"
    }
   ],
   "source": [
    "# intensity of green color\n",
    "img[:,:,1]"
   ]
  },
  {
   "cell_type": "code",
   "execution_count": 6,
   "metadata": {},
   "outputs": [
    {
     "data": {
      "text/plain": [
       "array([[180, 179, 180, ...,   1,   1,   1],\n",
       "       [180, 179, 180, ...,   1,   1,   1],\n",
       "       [180, 179, 180, ...,   1,   1,   1],\n",
       "       ...,\n",
       "       [ 42,  42,  42, ...,  90,  90,  90],\n",
       "       [ 42,  42,  42, ...,  90,  90,  90],\n",
       "       [ 42,  42,  42, ...,  92,  92,  92]], dtype=uint8)"
      ]
     },
     "execution_count": 6,
     "metadata": {},
     "output_type": "execute_result"
    }
   ],
   "source": [
    "# intensity of red color\n",
    "img[:,:,2]"
   ]
  },
  {
   "cell_type": "markdown",
   "metadata": {},
   "source": [
    "## splitting image using cv2.split()"
   ]
  },
  {
   "cell_type": "code",
   "execution_count": 7,
   "metadata": {},
   "outputs": [],
   "source": [
    "b,g,r=cv2.split(img)"
   ]
  },
  {
   "cell_type": "markdown",
   "metadata": {},
   "source": [
    "# showing image in blue channel"
   ]
  },
  {
   "cell_type": "code",
   "execution_count": 8,
   "metadata": {},
   "outputs": [],
   "source": [
    "import numpy as np \n",
    "import cv2\n",
    "\n",
    "img=cv2.imread('images/luffy1.jpg')\n",
    "img=cv2.resize(img,(1280,720))\n",
    "\n",
    "cv2.imshow(\"image\",img[:,:,0])\n",
    "cv2.waitKey(0)\n",
    "cv2.destroyAllWindows()"
   ]
  },
  {
   "cell_type": "markdown",
   "metadata": {},
   "source": [
    "## showing image in green channel\n"
   ]
  },
  {
   "cell_type": "code",
   "execution_count": 9,
   "metadata": {},
   "outputs": [],
   "source": [
    "import numpy as np \n",
    "import cv2\n",
    "\n",
    "img=cv2.imread('images/luffy1.jpg')\n",
    "img=cv2.resize(img,(1280,720))\n",
    "\n",
    "cv2.imshow(\"image\",img[:,:,1])\n",
    "cv2.waitKey(0)\n",
    "cv2.destroyAllWindows()"
   ]
  },
  {
   "cell_type": "markdown",
   "metadata": {},
   "source": [
    "## showing image into red channel]\n"
   ]
  },
  {
   "cell_type": "code",
   "execution_count": 10,
   "metadata": {},
   "outputs": [],
   "source": [
    "import numpy as np \n",
    "import cv2\n",
    "\n",
    "img=cv2.imread('images/luffy1.jpg')\n",
    "img=cv2.resize(img,(1280,720))\n",
    "\n",
    "cv2.imshow(\"image\",img[:,:,2])\n",
    "cv2.waitKey(0)\n",
    "cv2.destroyAllWindows()"
   ]
  },
  {
   "cell_type": "code",
   "execution_count": 12,
   "metadata": {},
   "outputs": [],
   "source": [
    "import numpy as np \n",
    "import cv2\n",
    "\n",
    "img=cv2.imread('images/luffy1.jpg')\n",
    "img=cv2.resize(img,(1280,720))\n",
    "\n",
    "cv2.imshow(\"blue channel\",img[:,:,0])\n",
    "cv2.imshow(\"greenchannel\",img[:,:,1])\n",
    "cv2.imshow(\"red channel\",img[:,:,2])\n",
    "cv2.waitKey(0)\n",
    "cv2.destroyAllWindows()"
   ]
  },
  {
   "cell_type": "code",
   "execution_count": null,
   "metadata": {},
   "outputs": [],
   "source": [
    "# spliiting and then merging the image\n",
    "import numpy as np \n",
    "import cv2\n",
    "\n",
    "img=cv2.imread('images/luffy1.jpg')\n",
    "img=cv2.resize(img,(400,400))\n",
    "\n",
    "b,g,r=cv2.split(img)\n",
    "img_merge=cv2.merge([b,g,r])\n",
    "\n",
    "cv2.imshow(\"blue channel\",b)\n",
    "cv2.imshow(\"greenchannel\",g)\n",
    "cv2.imshow(\"red channel\",r)\n",
    "cv2.imshow(\"bgr channel merged image\",img_merge)\n",
    "cv2.waitKey(0)\n",
    "cv2.destroyAllWindows()"
   ]
  }
 ],
 "metadata": {
  "kernelspec": {
   "display_name": "Python 3.9.12 ('base')",
   "language": "python",
   "name": "python3"
  },
  "language_info": {
   "codemirror_mode": {
    "name": "ipython",
    "version": 3
   },
   "file_extension": ".py",
   "mimetype": "text/x-python",
   "name": "python",
   "nbconvert_exporter": "python",
   "pygments_lexer": "ipython3",
   "version": "3.9.12"
  },
  "orig_nbformat": 4,
  "vscode": {
   "interpreter": {
    "hash": "45b2608452541d9e8f6d2d71e3437791a4a689e6f2f61fd3938f0052a2d15340"
   }
  }
 },
 "nbformat": 4,
 "nbformat_minor": 2
}

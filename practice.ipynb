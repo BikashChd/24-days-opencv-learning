{
 "cells": [
  {
   "cell_type": "code",
   "execution_count": null,
   "metadata": {},
   "outputs": [],
   "source": [
    "import numpy as np\n",
    "\n",
    "path='''/media/bikash/627648E67648BD13/MachineLearning/opencv/images'''"
   ]
  },
  {
   "cell_type": "code",
   "execution_count": 3,
   "metadata": {},
   "outputs": [],
   "source": [
    "import cv2\n",
    "import numpy as np\n",
    "path='''/media/bikash/627648E67648BD13/MachineLearning/opencv/images'''\n",
    "img_name='flower.jpg'\n",
    "img=cv2.resize((cv2.imread(path+\"//\"+img_name)),(600,400))\n",
    "\n",
    "cv2.imshow(\"image\",img)\n",
    "cv2.waitKey(0)\n",
    "cv2.destroyAllWindows()\n",
    "\n"
   ]
  },
  {
   "cell_type": "code",
   "execution_count": 4,
   "metadata": {},
   "outputs": [],
   "source": [
    "import cv2\n",
    "import numpy as np\n",
    "path='''/media/bikash/627648E67648BD13/MachineLearning/opencv/images'''\n",
    "img_name='flower.jpg'\n",
    "img=cv2.resize((cv2.imread(path+\"//\"+img_name)),(600,400))\n",
    "img2=np.hstack((img,img))\n",
    "img4=np.vstack((img2,img2))\n",
    "\n",
    "cv2.imshow(\"image\",img4)\n",
    "cv2.waitKey(0)\n",
    "cv2.destroyAllWindows()\n"
   ]
  },
  {
   "cell_type": "code",
   "execution_count": 6,
   "metadata": {},
   "outputs": [],
   "source": [
    "import cv2\n",
    "import numpy as np\n",
    "\n",
    "cap=cv2.VideoCapture(0)\n",
    "cap1=cv2.VideoCapture('video.mp4')\n",
    "\n",
    "while cap.isOpened():\n",
    "    ret,frame=cap.read()\n",
    "    ret1,frame1=cap1.read()\n",
    "    if ret:\n",
    "        framer=cv2.resize(frame,(600,400))\n",
    "        framer2=cv2.resize(frame1,(600,400))\n",
    "        frame3=np.hstack((framer,framer2))\n",
    "        frame4=np.vstack((frame3,frame3))\n",
    "        cv2.imshow(\"showing 4 images\",frame4)\n",
    "        if cv2.waitKey(25) & 0xff==ord('q'):\n",
    "            break\n",
    "    else:\n",
    "        break\n",
    "cap.release()\n",
    "cv2.destroyAllWindows()\n",
    "    \n"
   ]
  }
 ],
 "metadata": {
  "kernelspec": {
   "display_name": "Python 3.10.4 64-bit",
   "language": "python",
   "name": "python3"
  },
  "language_info": {
   "codemirror_mode": {
    "name": "ipython",
    "version": 3
   },
   "file_extension": ".py",
   "mimetype": "text/x-python",
   "name": "python",
   "nbconvert_exporter": "python",
   "pygments_lexer": "ipython3",
   "version": "3.10.4"
  },
  "orig_nbformat": 4,
  "vscode": {
   "interpreter": {
    "hash": "916dbcbb3f70747c44a77c7bcd40155683ae19c65e1c03b4aa3499c5328201f1"
   }
  }
 },
 "nbformat": 4,
 "nbformat_minor": 2
}

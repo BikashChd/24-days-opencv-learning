{
 "cells": [
  {
   "cell_type": "markdown",
   "metadata": {},
   "source": [
    "### Dilation"
   ]
  },
  {
   "cell_type": "code",
   "execution_count": 2,
   "metadata": {},
   "outputs": [],
   "source": [
    "\n",
    "import cv2\n",
    "import numpy as np\n",
    "im_txt=cv2.imread('images/text.jpg',0)\n",
    "girl_img=cv2.imread('images/girl.jpg',0)\n",
    "road=cv2.imread('images/road.jpg',0)\n",
    "\n",
    "road=cv2.resize(road,(1280,720))\n",
    "im_txt=cv2.resize(im_txt,(400,400))\n",
    "\n",
    "cv2.imshow(\"text\",im_txt)\n",
    "cv2.imshow('girl',girl_img)\n",
    "cv2.imshow('Road',road)\n",
    "\n",
    "cv2.waitKey(0)\n",
    "cv2.destroyAllWindows()"
   ]
  },
  {
   "cell_type": "code",
   "execution_count": 5,
   "metadata": {},
   "outputs": [],
   "source": [
    "# creating kernel\n",
    "k=np.ones((5,5),dtype=\"uint8\")"
   ]
  },
  {
   "cell_type": "code",
   "execution_count": 9,
   "metadata": {},
   "outputs": [],
   "source": [
    "# now dilating the image of girl\n",
    "dil_girl=cv2.dilate(girl_img,k,iterations=1)\n",
    "newIMG=np.hstack((girl_img,dil_girl))\n",
    "cv2.imshow(\"original and dilate\",newIMG)\n",
    "cv2.waitKey(0)\n",
    "cv2.destroyAllWindows()"
   ]
  },
  {
   "cell_type": "code",
   "execution_count": 10,
   "metadata": {},
   "outputs": [],
   "source": [
    "# now dilating the image  of road\n",
    "dil_road=cv2.dilate(road,k,iterations=1)\n",
    "newRoad=np.hstack((road,dil_road))\n",
    "cv2.imshow(\"original and dilate  image of road\",newRoad)\n",
    "cv2.waitKey(0)\n",
    "cv2.destroyAllWindows()"
   ]
  },
  {
   "cell_type": "code",
   "execution_count": null,
   "metadata": {},
   "outputs": [],
   "source": [
    "dil_text=cv2.dilate(im_txt,k,iterations=1)\n",
    "newText=np.hstack((im_txt,dil_text))\n",
    "cv2.imshow(\"original and dilate text\",newText)\n",
    "cv2.waitKey(0)\n",
    "cv2.destroyAllWindows()"
   ]
  }
 ],
 "metadata": {
  "kernelspec": {
   "display_name": "Python 3.9.12 ('base')",
   "language": "python",
   "name": "python3"
  },
  "language_info": {
   "codemirror_mode": {
    "name": "ipython",
    "version": 3
   },
   "file_extension": ".py",
   "mimetype": "text/x-python",
   "name": "python",
   "nbconvert_exporter": "python",
   "pygments_lexer": "ipython3",
   "version": "3.9.12"
  },
  "orig_nbformat": 4,
  "vscode": {
   "interpreter": {
    "hash": "45b2608452541d9e8f6d2d71e3437791a4a689e6f2f61fd3938f0052a2d15340"
   }
  }
 },
 "nbformat": 4,
 "nbformat_minor": 2
}

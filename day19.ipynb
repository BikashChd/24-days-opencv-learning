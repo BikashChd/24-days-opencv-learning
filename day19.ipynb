{
 "cells": [
  {
   "cell_type": "markdown",
   "metadata": {},
   "source": [
    "## blur image using cv2.blur and cv2.boxfilter"
   ]
  },
  {
   "cell_type": "code",
   "execution_count": 5,
   "metadata": {},
   "outputs": [],
   "source": [
    "# shwoing image\n",
    "import cv2\n",
    "import numpy as np\n",
    "img_namra=cv2.imread('images/namra2.jpg')\n",
    "img_namra=cv2.resize(img_namra,(640,800))\n",
    "cv2.imshow(\"image without blur\",img_namra)\n",
    "cv2.waitKey(0)\n",
    "cv2.destroyAllWindows()"
   ]
  },
  {
   "cell_type": "markdown",
   "metadata": {},
   "source": [
    "# blur image using cv2.blur() by using 3x3 kernel"
   ]
  },
  {
   "cell_type": "code",
   "execution_count": 6,
   "metadata": {},
   "outputs": [],
   "source": [
    "img_blur_3=cv2.blur(img_namra,(3,3))\n",
    "cv2.imshow(\"original image\",img_namra)\n",
    "cv2.imshow(\"blur image 3x3\",img_blur_3)\n",
    "cv2.waitKey(0)\n",
    "cv2.destroyAllWindows()"
   ]
  },
  {
   "cell_type": "markdown",
   "metadata": {},
   "source": [
    "## blur image using cv2.blur using 50x50 kernel"
   ]
  },
  {
   "cell_type": "code",
   "execution_count": 7,
   "metadata": {},
   "outputs": [],
   "source": [
    "img_blur_50=cv2.blur(img_namra,(50,50))\n",
    "cv2.imshow(\"original image\",img_namra)\n",
    "cv2.imshow(\"blur with 50x50 kernel\",img_blur_50)\n",
    "cv2.waitKey(0)\n",
    "cv2.destroyAllWindows()"
   ]
  },
  {
   "cell_type": "markdown",
   "metadata": {},
   "source": [
    "## blut image using cv2.boxfilter using 3x3 kernel\n"
   ]
  },
  {
   "cell_type": "code",
   "execution_count": 12,
   "metadata": {},
   "outputs": [],
   "source": [
    "img_b_blur_3=cv2.boxFilter(img_namra,-1,(3,3),normalize=True)\n",
    "img_b_blur_3n=cv2.boxFilter(img_namra,-1,(3,3),normalize=False)\n",
    "cv2.imshow(\"original image\",img_namra)\n",
    "cv2.imshow(\"box filter 3\",img_b_blur_3)\n",
    "cv2.imshow(\"box filter with normalize\",img_b_blur_3n)\n",
    "cv2.waitKey(0)\n",
    "cv2.destroyAllWindows()"
   ]
  },
  {
   "cell_type": "markdown",
   "metadata": {},
   "source": [
    "# blur image using cv2.boxfilter using 50x50 kernel\n"
   ]
  },
  {
   "cell_type": "code",
   "execution_count": 14,
   "metadata": {},
   "outputs": [],
   "source": [
    "img_b_blur_50=cv2.boxFilter(img_namra,-1,(50,50),normalize=True)\n",
    "img_b_blur_50n=cv2.boxFilter(img_namra,-1,(50,50),normalize=False)\n",
    "cv2.imshow(\"original image\",img_namra)\n",
    "cv2.imshow(\"box filter 3\",img_b_blur_50)\n",
    "cv2.imshow(\"box filter with normalize\",img_b_blur_50n)\n",
    "cv2.waitKey(0)\n",
    "cv2.destroyAllWindows()"
   ]
  },
  {
   "cell_type": "code",
   "execution_count": 16,
   "metadata": {},
   "outputs": [],
   "source": [
    "# img_namra=cv2.resize(img_namra,(400,350))\n",
    "img_blur_3=cv2.resize(img_blur_3,(400,350))\n",
    "img_blur_50=cv2.resize(img_blur_50,(400,350))\n",
    "img_b_blur_3=cv2.resize(img_b_blur_3,(400,350))\n",
    "img_b_blur_50=cv2.resize(img_b_blur_50,(400,350))\n",
    "\n",
    "# cv2.putText(img_namra,\"original image\",(20,40),cv2.FONT_HERSHEY_COMPLEX,1,color=(0,255,0))\n",
    "cv2.putText(img_blur_3,\"blur3\",(20,40),cv2.FONT_HERSHEY_COMPLEX,1,color=(0,255,0))\n",
    "cv2.putText(img_blur_50,\"blur50\",(20,40),cv2.FONT_HERSHEY_COMPLEX,1,color=(0,255,0))\n",
    "cv2.putText(img_b_blur_3,\"box blur 3\",(20,40),cv2.FONT_HERSHEY_COMPLEX,1,color=(0,255,0))\n",
    "cv2.putText(img_b_blur_50,\"box blur 50\",(20,40),cv2.FONT_HERSHEY_COMPLEX,1,color=(0,255,0))\n",
    "\n",
    "img1=np.hstack((img_blur_3,img_blur_50))\n",
    "img2=np.hstack((img_b_blur_3,img_b_blur_50))\n",
    "img_final=np.vstack((img1,img2))\n",
    "cv2.imshow(\"all blur\",img_final)\n",
    "cv2.waitKey(0)\n",
    "cv2.destroyAllWindows()"
   ]
  }
 ],
 "metadata": {
  "kernelspec": {
   "display_name": "Python 3.9.12 ('base')",
   "language": "python",
   "name": "python3"
  },
  "language_info": {
   "codemirror_mode": {
    "name": "ipython",
    "version": 3
   },
   "file_extension": ".py",
   "mimetype": "text/x-python",
   "name": "python",
   "nbconvert_exporter": "python",
   "pygments_lexer": "ipython3",
   "version": "3.9.12"
  },
  "orig_nbformat": 4,
  "vscode": {
   "interpreter": {
    "hash": "45b2608452541d9e8f6d2d71e3437791a4a689e6f2f61fd3938f0052a2d15340"
   }
  }
 },
 "nbformat": 4,
 "nbformat_minor": 2
}

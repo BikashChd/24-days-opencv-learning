{
 "cells": [
  {
   "cell_type": "markdown",
   "metadata": {},
   "source": [
    "## converting rgb color image imto b,g,r"
   ]
  },
  {
   "cell_type": "code",
   "execution_count": 2,
   "metadata": {},
   "outputs": [
    {
     "name": "stderr",
     "output_type": "stream",
     "text": [
      "qt.qpa.plugin: Could not find the Qt platform plugin \"wayland\" in \"/home/bikash/anaconda3/lib/python3.9/site-packages/cv2/qt/plugins\"\n"
     ]
    }
   ],
   "source": [
    "# showing image\n",
    "import numpy as np \n",
    "import cv2\n",
    "\n",
    "img=cv2.imread('images/luffy1.jpg')\n",
    "img=cv2.resize(img,(400,400))\n",
    "\n",
    "cv2.imshow(\"image\",img)\n",
    "cv2.waitKey(0)\n",
    "cv2.destroyAllWindows()"
   ]
  },
  {
   "cell_type": "code",
   "execution_count": 3,
   "metadata": {},
   "outputs": [],
   "source": [
    "# blue image\n",
    "b,g,r=cv2.split(img)\n",
    "zero_ch=np.zeros(img.shape[0:2],dtype=\"uint8\")\n",
    "img_b=cv2.merge([b,zero_ch,zero_ch])\n",
    "cv2.imshow(\"first blue channel\",img_b)\n",
    "cv2.waitKey(0)\n",
    "cv2.destroyAllWindows()"
   ]
  },
  {
   "cell_type": "code",
   "execution_count": 4,
   "metadata": {},
   "outputs": [],
   "source": [
    "# green image\n",
    "img_g=cv2.merge([zero_ch,g,zero_ch])\n",
    "cv2.imshow(\"showing image in green\",img_g)\n",
    "cv2.waitKey(0)\n",
    "cv2.destroyAllWindows()"
   ]
  },
  {
   "cell_type": "code",
   "execution_count": 5,
   "metadata": {},
   "outputs": [],
   "source": [
    "# red image\n",
    "img_r=cv2.merge([zero_ch,zero_ch,r])\n",
    "cv2.imshow(\"showing image in red\",img_r)\n",
    "cv2.waitKey(0)\n",
    "cv2.destroyAllWindows()"
   ]
  },
  {
   "cell_type": "code",
   "execution_count": 6,
   "metadata": {},
   "outputs": [],
   "source": [
    "c=np.hstack((img_b,img_g))\n",
    "d=np.hstack((img_r,img))\n",
    "new_img=np.vstack((c,d))\n",
    "cv2.imshow(\"all image in one\",new_img)\n",
    "cv2.waitKey(0)\n",
    "cv2.destroyAllWindows()"
   ]
  },
  {
   "cell_type": "code",
   "execution_count": 7,
   "metadata": {},
   "outputs": [],
   "source": [
    "# converting the image into rgb\n",
    "img_rgb=cv2.cvtColor(img,cv2.COLOR_BGR2RGB)\n",
    "cv2.imshow(\"image in rgb\",img_rgb)\n",
    "cv2.waitKey(0)\n",
    "cv2.destroyAllWindows()"
   ]
  },
  {
   "cell_type": "code",
   "execution_count": 8,
   "metadata": {},
   "outputs": [],
   "source": [
    "# spllitting the rgb image\n",
    "r,g,b=cv2.split(img_rgb)\n"
   ]
  },
  {
   "cell_type": "code",
   "execution_count": 9,
   "metadata": {},
   "outputs": [],
   "source": [
    "# merging the rgb image\n",
    "new_img=cv2.merge([r,g,b])\n",
    "cv2.imshow(\"new image\",new_img)\n",
    "cv2.waitKey(0)\n",
    "cv2.destroyAllWindows()"
   ]
  },
  {
   "cell_type": "code",
   "execution_count": 10,
   "metadata": {},
   "outputs": [],
   "source": [
    "import numpy as np \n",
    "import cv2\n",
    "\n",
    "img=cv2.imread('images/luffy1.jpg')\n",
    "img=cv2.resize(img,(400,400))\n",
    "\n",
    "cv2.imshow(\"image\",img)\n",
    "cv2.waitKey(0)\n",
    "cv2.destroyAllWindows()"
   ]
  },
  {
   "cell_type": "code",
   "execution_count": 11,
   "metadata": {},
   "outputs": [],
   "source": [
    "rgb=cv2.cvtColor(img,cv2.COLOR_BGR2RGB)\n",
    "r,g,b=cv2.split(rgb)\n",
    "zero=np.zeros(rgb.shape[0:2],dtype=\"uint8\")"
   ]
  },
  {
   "cell_type": "code",
   "execution_count": 12,
   "metadata": {},
   "outputs": [],
   "source": [
    "img_r=cv2.merge([zero,zero,b])\n",
    "cv2.imshow(\"image in red\",img_r)\n",
    "cv2.waitKey(0)\n",
    "cv2.destroyAllWindows()"
   ]
  }
 ],
 "metadata": {
  "kernelspec": {
   "display_name": "Python 3.9.12 ('base')",
   "language": "python",
   "name": "python3"
  },
  "language_info": {
   "codemirror_mode": {
    "name": "ipython",
    "version": 3
   },
   "file_extension": ".py",
   "mimetype": "text/x-python",
   "name": "python",
   "nbconvert_exporter": "python",
   "pygments_lexer": "ipython3",
   "version": "3.9.12"
  },
  "orig_nbformat": 4,
  "vscode": {
   "interpreter": {
    "hash": "45b2608452541d9e8f6d2d71e3437791a4a689e6f2f61fd3938f0052a2d15340"
   }
  }
 },
 "nbformat": 4,
 "nbformat_minor": 2
}

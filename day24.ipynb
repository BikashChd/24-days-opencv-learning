{
 "cells": [
  {
   "cell_type": "markdown",
   "metadata": {},
   "source": [
    "### how to add pixel at any location in image"
   ]
  },
  {
   "cell_type": "code",
   "execution_count": 1,
   "metadata": {},
   "outputs": [],
   "source": [
    "import cv2\n",
    "import numpy as np\n",
    "import time \n",
    "import random"
   ]
  },
  {
   "cell_type": "code",
   "execution_count": 18,
   "metadata": {},
   "outputs": [],
   "source": [
    "# reading the image and showing it\n",
    "kid=cv2.imread('images/alisha.jpg')\n",
    "kid=cv2.resize(kid,(1280,720))\n",
    "cv2.imshow(\"kid\",kid)\n",
    "cv2.waitKey(0)\n",
    "cv2.destroyAllWindows()"
   ]
  },
  {
   "cell_type": "markdown",
   "metadata": {},
   "source": [
    "### Add new single color pixel in image"
   ]
  },
  {
   "cell_type": "code",
   "execution_count": 19,
   "metadata": {},
   "outputs": [
    {
     "data": {
      "text/plain": [
       "array([39, 27, 23], dtype=uint8)"
      ]
     },
     "execution_count": 19,
     "metadata": {},
     "output_type": "execute_result"
    }
   ],
   "source": [
    "kid[0][0]"
   ]
  },
  {
   "cell_type": "code",
   "execution_count": 20,
   "metadata": {},
   "outputs": [],
   "source": [
    "# Adding white pixel at 00 position and black pixel at [0][1] ,red green blue \n",
    "kidC=np.copy(kid)\n",
    "kidC[0][0]=np.array([255,255,255])\n",
    "kidC[0][1]=np.array([0,0,0])\n",
    "kidC[0][2]=np.array([255,0,0])\n",
    "kidC[0][3]=np.array([0,255,0])\n",
    "kidC[0][4]=np.array([0,0,255])\n",
    "cv2.imshow(\"kid modify\",kidC)\n",
    "cv2.waitKey(0)\n",
    "cv2.destroyAllWindows()"
   ]
  },
  {
   "cell_type": "markdown",
   "metadata": {},
   "source": [
    "### add new color pixel in row of image"
   ]
  },
  {
   "cell_type": "code",
   "execution_count": 21,
   "metadata": {},
   "outputs": [],
   "source": [
    "kidC=np.copy(kid)\n",
    "imgWidth=kidC.shape[1]\n",
    "imgHeight=kidC.shape[0]\n",
    "\n",
    "for col_index in range(imgWidth):\n",
    "    kidC[0][col_index]=np.array([255,255,255])\n",
    "    kidC[1][col_index]=np.array([0,0,0])\n",
    "    kidC[2][col_index]=np.array([255,0,255])\n",
    "    kidC[3][col_index]=np.array([0,255,255])\n",
    "    kidC[4][col_index]=np.array([255,255,0])\n",
    "\n",
    "cv2.imshow(\"after adding color pixel\",kidC)\n",
    "cv2.waitKey(0)\n",
    "cv2.destroyAllWindows()"
   ]
  },
  {
   "cell_type": "code",
   "execution_count": 17,
   "metadata": {},
   "outputs": [],
   "source": [
    "kidC=np.copy(kid)\n",
    "imgWidth=kidC.shape[1]\n",
    "imgHeight=kidC.shape[0]\n",
    "\n",
    "for col_index in range(imgWidth):\n",
    "    if col_index%2==0:\n",
    "        kidC[0][col_index]=np.array([255,255,255])\n",
    "        kidC[1][col_index]=np.array([0,0,0])\n",
    "        kidC[2][col_index]=np.array([255,0,255])\n",
    "        kidC[3][col_index]=np.array([0,255,255])\n",
    "        kidC[4][col_index]=np.array([255,255,0])\n",
    "\n",
    "cv2.imshow(\"after adding color pixel\",kidC)\n",
    "cv2.waitKey(0)\n",
    "cv2.destroyAllWindows()"
   ]
  },
  {
   "cell_type": "markdown",
   "metadata": {},
   "source": [
    "### adding new color pixel with logic/alternatively"
   ]
  },
  {
   "cell_type": "code",
   "execution_count": 26,
   "metadata": {},
   "outputs": [],
   "source": [
    "kidC=np.copy(kid)\n",
    "imgWidth=kidC.shape[1]\n",
    "imgHeight=kidC.shape[0]\n",
    "\n",
    "for row_indes in range(imgHeight):\n",
    "    if row_indes%30==0:\n",
    "        for col_index in range(imgWidth):\n",
    "            if col_index%30==0:\n",
    "                kidC[row_indes][col_index]=np.array([255,255,255])\n",
    "                # kidC[1][col_index]=np.array([0,0,0])\n",
    "                # kidC[2][col_index]=np.array([255,0,255])\n",
    "                # kidC[3][col_index]=np.array([0,255,255])\n",
    "                # kidC[4][col_index]=np.array([255,255,0])\n",
    "\n",
    "cv2.imshow(\"after adding color pixel\",kidC)\n",
    "cv2.waitKey(0)\n",
    "cv2.destroyAllWindows()"
   ]
  },
  {
   "cell_type": "markdown",
   "metadata": {},
   "source": [
    "### adding new random color pixel randomly in image"
   ]
  },
  {
   "cell_type": "code",
   "execution_count": 29,
   "metadata": {},
   "outputs": [],
   "source": [
    "kidC=np.copy(kid)\n",
    "imgWidth=kidC.shape[1]\n",
    "imgHeight=kidC.shape[0]\n",
    "\n",
    "for row_indes in range(imgHeight):\n",
    "    if row_indes%2==0:\n",
    "        for col_index in range(imgWidth):\n",
    "            b_pixel=random.randint(0,255)\n",
    "            g_pixel=random.randint(0,255)\n",
    "            r_pixel=random.randint(0,255)\n",
    "            if col_index%2==0:\n",
    "                kidC[row_indes][col_index]=np.array([b_pixel,g_pixel,r_pixel])\n",
    "\n",
    "cv2.imshow(\"random pixel\",kidC)\n",
    "cv2.waitKey(0)\n",
    "cv2.destroyAllWindows()"
   ]
  },
  {
   "cell_type": "code",
   "execution_count": 31,
   "metadata": {},
   "outputs": [],
   "source": [
    "kidC=np.copy(kid)\n",
    "imgWidth=kidC.shape[1]\n",
    "imgHeight=kidC.shape[0]\n",
    "\n",
    "for row_indes in range(imgHeight):\n",
    "    if row_indes%2==0:\n",
    "        for col_index in range(random.randint(0,1000)):\n",
    "            b_pixel=random.randint(0,255)\n",
    "            g_pixel=random.randint(0,255)\n",
    "            r_pixel=random.randint(0,255)\n",
    "            rand_cols_index=random.randint(0,imgWidth)\n",
    "            # if col_index%2==0:\n",
    "            kidC[row_indes][col_index]=np.array([b_pixel,g_pixel,r_pixel])\n",
    "\n",
    "cv2.imshow(\"random pixel\",kidC)\n",
    "cv2.waitKey(0)\n",
    "cv2.destroyAllWindows()"
   ]
  }
 ],
 "metadata": {
  "kernelspec": {
   "display_name": "Python 3.9.12 ('base')",
   "language": "python",
   "name": "python3"
  },
  "language_info": {
   "codemirror_mode": {
    "name": "ipython",
    "version": 3
   },
   "file_extension": ".py",
   "mimetype": "text/x-python",
   "name": "python",
   "nbconvert_exporter": "python",
   "pygments_lexer": "ipython3",
   "version": "3.9.12"
  },
  "orig_nbformat": 4,
  "vscode": {
   "interpreter": {
    "hash": "45b2608452541d9e8f6d2d71e3437791a4a689e6f2f61fd3938f0052a2d15340"
   }
  }
 },
 "nbformat": 4,
 "nbformat_minor": 2
}

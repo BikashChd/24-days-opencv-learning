{
 "cells": [
  {
   "cell_type": "markdown",
   "metadata": {},
   "source": [
    "## How to draw line and text on image"
   ]
  },
  {
   "cell_type": "code",
   "execution_count": 5,
   "metadata": {},
   "outputs": [],
   "source": [
    "import cv2\n",
    "import numpy as np\n",
    "\n",
    "img=cv2.imread('images/luffy2.jpg')\n",
    "# cv2.line(img,pt1,pt2,color,thickness,linetype,shift)\n",
    "img_line=cv2.line(img,(340,82),(940,82),(0,255,0),3,cv2.LINE_4)\n",
    "cv2.imshow(\"luffy drawing line\",img_line)\n",
    "cv2.waitKey(0)\n",
    "cv2.destroyAllWindows()"
   ]
  },
  {
   "cell_type": "code",
   "execution_count": 8,
   "metadata": {},
   "outputs": [],
   "source": [
    "# how to draw line and text in image\n",
    "import cv2\n",
    "import numpy as np\n",
    "\n",
    "img=cv2.imread('images/luffy2.jpg')\n",
    "# cv2.line(img,pt1,pt2,color,thickness,linetype,shift)\n",
    "img_line=cv2.line(img,(340,82),(940,82),(0,255,0),3,cv2.LINE_4)\n",
    "img_line_text=cv2.putText(img_line,\"Ace,Lyffy and Sabo\",(440,70),cv2.FONT_HERSHEY_COMPLEX,1,(0,0,255))\n",
    "cv2.imshow(\"luffy drawing line\",img_line_text)\n",
    "cv2.waitKey(0)\n",
    "cv2.destroyAllWindows()"
   ]
  }
 ],
 "metadata": {
  "kernelspec": {
   "display_name": "Python 3.10.4 64-bit",
   "language": "python",
   "name": "python3"
  },
  "language_info": {
   "codemirror_mode": {
    "name": "ipython",
    "version": 3
   },
   "file_extension": ".py",
   "mimetype": "text/x-python",
   "name": "python",
   "nbconvert_exporter": "python",
   "pygments_lexer": "ipython3",
   "version": "3.10.4"
  },
  "orig_nbformat": 4,
  "vscode": {
   "interpreter": {
    "hash": "916dbcbb3f70747c44a77c7bcd40155683ae19c65e1c03b4aa3499c5328201f1"
   }
  }
 },
 "nbformat": 4,
 "nbformat_minor": 2
}

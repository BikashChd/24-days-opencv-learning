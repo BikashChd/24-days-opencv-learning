{
 "cells": [
  {
   "cell_type": "markdown",
   "metadata": {},
   "source": [
    "## how to play video , how to access camera,muliple video/camera in one video"
   ]
  },
  {
   "cell_type": "code",
   "execution_count": 2,
   "metadata": {},
   "outputs": [],
   "source": [
    "# How to play video\n",
    "import cv2\n",
    "import numpy as np\n",
    "\n",
    "video_path=r'/media/bikash/627648E67648BD13/MachineLearning/opencv/video.mp4'\n",
    "cap=cv2.VideoCapture(video_path)\n",
    "\n",
    "while cap.isOpened():\n",
    "    ret,frame=cap.read()\n",
    "    if ret:\n",
    "        image=cv2.resize(frame,(600,400))\n",
    "        cv2.imshow(\"Video player\",image)\n",
    "        if cv2.waitKey(25) & 0xff==ord(\"q\"):\n",
    "            break\n",
    "    else:\n",
    "        break\n",
    "cap.release()\n",
    "cv2.destroyAllWindows()"
   ]
  },
  {
   "cell_type": "code",
   "execution_count": 1,
   "metadata": {},
   "outputs": [
    {
     "name": "stderr",
     "output_type": "stream",
     "text": [
      "qt.qpa.plugin: Could not find the Qt platform plugin \"wayland\" in \"/home/bikash/.local/lib/python3.10/site-packages/cv2/qt/plugins\"\n"
     ]
    }
   ],
   "source": [
    "#  how to access our system camera\n",
    "import cv2\n",
    "import numpy as np\n",
    "\n",
    "cap=cv2.VideoCapture(0)\n",
    "while cap.isOpened():\n",
    "    ret,frame=cap.read()\n",
    "    if ret:\n",
    "        img=cv2.resize(frame,(1280,720))\n",
    "        cv2.imshow(\"Front Camera\",img)\n",
    "        if cv2.waitKey(25) & 0xff==ord(\"q\"):\n",
    "            break\n",
    "    else:\n",
    "        break\n",
    "\n",
    "cap.release()\n",
    "cv2.destroyAllWindows()\n",
    "\n"
   ]
  },
  {
   "cell_type": "code",
   "execution_count": 1,
   "metadata": {},
   "outputs": [
    {
     "name": "stderr",
     "output_type": "stream",
     "text": [
      "qt.qpa.plugin: Could not find the Qt platform plugin \"wayland\" in \"/home/bikash/.local/lib/python3.10/site-packages/cv2/qt/plugins\"\n"
     ]
    }
   ],
   "source": [
    "# playing the video four times \n",
    "import cv2\n",
    "import numpy as np\n",
    "video_path=r'/media/bikash/627648E67648BD13/MachineLearning/opencv/video.mp4'\n",
    "cap=cv2.VideoCapture(video_path)\n",
    "cap2=cv2.VideoCapture(0)\n",
    "\n",
    "while cap.isOpened() :\n",
    "    ret,frame=cap.read()\n",
    "    ret2,frame2=cap2.read()\n",
    "    if ret:\n",
    "        fr=cv2.resize(frame,(600,400))\n",
    "        fr1=cv2.resize(frame2,(600,400))\n",
    "        vf=np.hstack((fr,fr1))\n",
    "        vf1=np.hstack((fr1,fr))\n",
    "        vf2=np.vstack((vf,vf1))\n",
    "        cv2.imshow(\"showing video and camera capture\",vf2)\n",
    "        \n",
    "        if cv2.waitKey(25) & 0xff==ord(\"q\"):\n",
    "            break\n",
    "    else:\n",
    "        break\n",
    "cap.release()\n",
    "cv2.destroyAllWindows()"
   ]
  }
 ],
 "metadata": {
  "kernelspec": {
   "display_name": "Python 3.10.4 64-bit",
   "language": "python",
   "name": "python3"
  },
  "language_info": {
   "codemirror_mode": {
    "name": "ipython",
    "version": 3
   },
   "file_extension": ".py",
   "mimetype": "text/x-python",
   "name": "python",
   "nbconvert_exporter": "python",
   "pygments_lexer": "ipython3",
   "version": "3.10.4"
  },
  "orig_nbformat": 4,
  "vscode": {
   "interpreter": {
    "hash": "916dbcbb3f70747c44a77c7bcd40155683ae19c65e1c03b4aa3499c5328201f1"
   }
  }
 },
 "nbformat": 4,
 "nbformat_minor": 2
}

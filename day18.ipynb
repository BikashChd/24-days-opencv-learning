{
 "cells": [
  {
   "cell_type": "markdown",
   "metadata": {},
   "source": [
    "# Blur image using filter 2d operation"
   ]
  },
  {
   "cell_type": "code",
   "execution_count": 1,
   "metadata": {},
   "outputs": [
    {
     "name": "stderr",
     "output_type": "stream",
     "text": [
      "qt.qpa.plugin: Could not find the Qt platform plugin \"wayland\" in \"/home/bikash/anaconda3/lib/python3.9/site-packages/cv2/qt/plugins\"\n"
     ]
    }
   ],
   "source": [
    "# showing image\n",
    "import cv2\n",
    "import numpy as np\n",
    "img_namra=cv2.imread('images/namras.jpg')\n",
    "img_namra=cv2.resize(img_namra,(640,800))\n",
    "cv2.imshow(\"image without blur\",img_namra)\n",
    "cv2.waitKey(0)\n",
    "cv2.destroyAllWindows()"
   ]
  },
  {
   "cell_type": "markdown",
   "metadata": {},
   "source": [
    "## blur image using filter 2d with 3x3 kernel"
   ]
  },
  {
   "cell_type": "code",
   "execution_count": 2,
   "metadata": {},
   "outputs": [],
   "source": [
    "# creating matrix \n",
    "one_mat=np.ones((3,3),dtype=np.float32)/9\n",
    "blur_img_3x3=cv2.filter2D(img_namra,-5,one_mat)\n",
    "cv2.imshow(\"image without blur\",img_namra)\n",
    "cv2.imshow(\"blur using 3x3 matrix\",blur_img_3x3)\n",
    "cv2.waitKey(0)\n",
    "cv2.destroyAllWindows()"
   ]
  },
  {
   "cell_type": "markdown",
   "metadata": {},
   "source": [
    "## blur image using filter 2d with 4x4 kernel"
   ]
  },
  {
   "cell_type": "code",
   "execution_count": null,
   "metadata": {},
   "outputs": [],
   "source": [
    "# creating 4x4 matirx of ones\n",
    "one_mat_4x4=np.ones((4,4),dtype=np.float32)/16\n",
    "blur_img_4x4=cv2.filter2D(img_namra,-1,one_mat_4x4)\n",
    "cv2.imshow(\"image original\",img_namra)\n",
    "cv2.imshow('blur with 4x4',blur_img_4x4)\n",
    "cv2.waitKey(0)\n",
    "cv2.destroyAllWindows()"
   ]
  },
  {
   "cell_type": "markdown",
   "metadata": {},
   "source": [
    "## blur image using filter 2D with 6x6 kernel\n"
   ]
  },
  {
   "cell_type": "code",
   "execution_count": null,
   "metadata": {},
   "outputs": [],
   "source": [
    "one_mat_6x6=np.ones((6,6),dtype=np.float32)/36\n",
    "blur_img_6x6=cv2.filter2D(img_namra,-1,one_mat_6x6)\n",
    "cv2.imshow(\"original image\",img_namra)\n",
    "cv2.imshow(\"blur with 6x6 kernel\",blur_img_6x6)\n",
    "cv2.waitKey(0)\n",
    "cv2.destroyAllWindows()"
   ]
  },
  {
   "cell_type": "markdown",
   "metadata": {},
   "source": [
    "## blur image using filter 2D with 10x10 kernel"
   ]
  },
  {
   "cell_type": "code",
   "execution_count": null,
   "metadata": {},
   "outputs": [],
   "source": [
    "one_mat_10x10=np.ones((10,10),dtype=np.float32)/100\n",
    "blur_img_10x10=cv2.filter2D(img_namra,-1,one_mat_10x10)\n",
    "cv2.imshow('originl image',img_namra)\n",
    "cv2.imshow('blur with 10x10 kernel',blur_img_10x10)\n",
    "cv2.waitKey(0)\n",
    "cv2.destroyAllWindows()"
   ]
  },
  {
   "cell_type": "markdown",
   "metadata": {},
   "source": [
    "## blur image using filter 2D with 50x50 kernel"
   ]
  },
  {
   "cell_type": "code",
   "execution_count": null,
   "metadata": {},
   "outputs": [],
   "source": [
    "one_mat_50x50=np.ones((50,50),dtype=np.float32)/2500\n",
    "blur_img_50x50=cv2.filter2D(img_namra,-1,one_mat_50x50)\n",
    "cv2.imshow('original image',img_namra)\n",
    "cv2.imshow('blur image 50x500',blur_img_50x50)\n",
    "cv2.waitKey(0)\n",
    "cv2.destroyAllWindows()"
   ]
  },
  {
   "cell_type": "markdown",
   "metadata": {},
   "source": [
    "## blur image with 100x100 kernel"
   ]
  },
  {
   "cell_type": "code",
   "execution_count": null,
   "metadata": {},
   "outputs": [],
   "source": [
    "one_mat_100x100=np.ones((100,100),dtype=np.float32)/10000\n",
    "blur_img_100x100=cv2.filter2D(img_namra,-1,one_mat_100x100)\n",
    "cv2.imshow(\"original image\",img_namra)\n",
    "cv2.imshow('blur with 100x100',blur_img_100x100)\n",
    "cv2.waitKey(0)\n",
    "cv2.destroyAllWindows()"
   ]
  },
  {
   "cell_type": "code",
   "execution_count": null,
   "metadata": {},
   "outputs": [],
   "source": []
  },
  {
   "cell_type": "markdown",
   "metadata": {},
   "source": [
    "## showign all image in one window\n"
   ]
  },
  {
   "cell_type": "code",
   "execution_count": null,
   "metadata": {},
   "outputs": [],
   "source": [
    "img_namra=cv2.resize(img_namra,(400,350))\n",
    "blur_img_3x3=cv2.resize(blur_img_3x3,(400,350))\n",
    "blur_img_6x6=cv2.resize(blur_img_6x6,(400,350))\n",
    "blur_img_10x10=cv2.resize(blur_img_10x10,(400,350))\n",
    "blur_img_50x50=cv2.resize(blur_img_50x50,(400,350))\n",
    "blur_img_100x100=cv2.resize(blur_img_100x100,(400,350))\n",
    "\n",
    "cv2.putText(img_namra,\"original\",(20,40),cv2.FONT_HERSHEY_COMPLEX,fontScale=1,color=(0,255,0))\n",
    "cv2.putText(blur_img_3x3,\"blur 3x3\",(20,40),cv2.FONT_HERSHEY_COMPLEX,fontScale=1,color=(0,255,0))\n",
    "cv2.putText(blur_img_6x6,\"blur 6x6 \",(20,40),cv2.FONT_HERSHEY_COMPLEX,fontScale=1,color=(0,255,0))\n",
    "cv2.putText(blur_img_10x10,\"blur 10x10\",(20,40),cv2.FONT_HERSHEY_COMPLEX,fontScale=1,color=(0,255,0))\n",
    "cv2.putText(blur_img_50x50,\"blur 50x50\",(20,40),cv2.FONT_HERSHEY_COMPLEX,fontScale=1,color=(0,255,0))\n",
    "cv2.putText(blur_img_100x100,\"blur 100x100\",(20,40),cv2.FONT_HERSHEY_COMPLEX,fontScale=1,color=(0,255,0))\n",
    "\n",
    "img1=np.hstack((img_namra,blur_img_3x3,blur_img_6x6))\n",
    "img2=np.hstack((blur_img_10x10,blur_img_50x50,blur_img_100x100))\n",
    "img3=np.vstack((img1,img2))\n",
    "\n",
    "cv2.imshow(\"image from original to 100x100 blur\",img3)\n",
    "cv2.waitKey(0)\n",
    "cv2.destroyAllWindows()\n"
   ]
  }
 ],
 "metadata": {
  "kernelspec": {
   "display_name": "Python 3.9.12 ('base')",
   "language": "python",
   "name": "python3"
  },
  "language_info": {
   "codemirror_mode": {
    "name": "ipython",
    "version": 3
   },
   "file_extension": ".py",
   "mimetype": "text/x-python",
   "name": "python",
   "nbconvert_exporter": "python",
   "pygments_lexer": "ipython3",
   "version": "3.9.12"
  },
  "orig_nbformat": 4,
  "vscode": {
   "interpreter": {
    "hash": "45b2608452541d9e8f6d2d71e3437791a4a689e6f2f61fd3938f0052a2d15340"
   }
  }
 },
 "nbformat": 4,
 "nbformat_minor": 2
}

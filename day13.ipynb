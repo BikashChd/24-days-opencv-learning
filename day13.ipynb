{
 "cells": [
  {
   "cell_type": "markdown",
   "metadata": {},
   "source": [
    "## how to convert image color using cv2.cvtcolor ?"
   ]
  },
  {
   "cell_type": "code",
   "execution_count": 1,
   "metadata": {},
   "outputs": [
    {
     "name": "stderr",
     "output_type": "stream",
     "text": [
      "qt.qpa.plugin: Could not find the Qt platform plugin \"wayland\" in \"/home/bikash/anaconda3/lib/python3.9/site-packages/cv2/qt/plugins\"\n",
      "Qt: Session management error: Could not open network socket\n"
     ]
    }
   ],
   "source": [
    "import numpy as np \n",
    "import cv2\n",
    "\n",
    "img=cv2.imread('images/luffy1.jpg')\n",
    "img=cv2.resize(img,(1280,720))\n",
    "\n",
    "cv2.imshow(\"image\",img)\n",
    "cv2.waitKey(0)\n",
    "cv2.destroyAllWindows()"
   ]
  },
  {
   "cell_type": "code",
   "execution_count": 2,
   "metadata": {},
   "outputs": [
    {
     "data": {
      "text/plain": [
       "(720, 1280, 3)"
      ]
     },
     "execution_count": 2,
     "metadata": {},
     "output_type": "execute_result"
    }
   ],
   "source": [
    "# shape of the image\n",
    "img.shape"
   ]
  },
  {
   "cell_type": "code",
   "execution_count": 3,
   "metadata": {},
   "outputs": [
    {
     "data": {
      "text/plain": [
       "array([[192, 191, 192, ...,   1,   1,   1],\n",
       "       [192, 191, 192, ...,   1,   1,   1],\n",
       "       [192, 191, 192, ...,   1,   1,   1],\n",
       "       ...,\n",
       "       [ 23,  23,  23, ...,  82,  82,  82],\n",
       "       [ 23,  23,  23, ...,  82,  82,  82],\n",
       "       [ 23,  23,  23, ...,  84,  84,  84]], dtype=uint8)"
      ]
     },
     "execution_count": 3,
     "metadata": {},
     "output_type": "execute_result"
    }
   ],
   "source": [
    "# blue color matrix\n",
    "img[:,:,0]"
   ]
  },
  {
   "cell_type": "code",
   "execution_count": 4,
   "metadata": {},
   "outputs": [
    {
     "data": {
      "text/plain": [
       "array([[183, 182, 183, ...,   1,   1,   1],\n",
       "       [183, 182, 183, ...,   1,   1,   1],\n",
       "       [183, 182, 183, ...,   1,   1,   1],\n",
       "       ...,\n",
       "       [ 20,  20,  20, ...,  87,  87,  87],\n",
       "       [ 20,  20,  20, ...,  87,  87,  87],\n",
       "       [ 20,  20,  20, ...,  89,  89,  89]], dtype=uint8)"
      ]
     },
     "execution_count": 4,
     "metadata": {},
     "output_type": "execute_result"
    }
   ],
   "source": [
    "# green color matrix\n",
    "img[:,:,1]"
   ]
  },
  {
   "cell_type": "code",
   "execution_count": 5,
   "metadata": {},
   "outputs": [
    {
     "data": {
      "text/plain": [
       "array([[180, 179, 180, ...,   1,   1,   1],\n",
       "       [180, 179, 180, ...,   1,   1,   1],\n",
       "       [180, 179, 180, ...,   1,   1,   1],\n",
       "       ...,\n",
       "       [ 42,  42,  42, ...,  90,  90,  90],\n",
       "       [ 42,  42,  42, ...,  90,  90,  90],\n",
       "       [ 42,  42,  42, ...,  92,  92,  92]], dtype=uint8)"
      ]
     },
     "execution_count": 5,
     "metadata": {},
     "output_type": "execute_result"
    }
   ],
   "source": [
    "# red color matrix\n",
    "img[:,:,2]"
   ]
  },
  {
   "cell_type": "code",
   "execution_count": 1,
   "metadata": {},
   "outputs": [
    {
     "name": "stderr",
     "output_type": "stream",
     "text": [
      "qt.qpa.plugin: Could not find the Qt platform plugin \"wayland\" in \"/home/bikash/anaconda3/lib/python3.9/site-packages/cv2/qt/plugins\"\n",
      "Qt: Session management error: Could not open network socket\n"
     ]
    }
   ],
   "source": [
    "# converting the image  from bgr into rgb\n",
    "import numpy as np \n",
    "import cv2\n",
    "\n",
    "img=cv2.imread('images/luffy1.jpg')\n",
    "img=cv2.resize(img,(1280,720))\n",
    "img_rgb=cv2.cvtColor(img,cv2.COLOR_BGR2RGB)\n",
    "\n",
    "cv2.imshow(\"image in rgb\",img_rgb)\n",
    "cv2.waitKey(0)\n",
    "cv2.destroyAllWindows()"
   ]
  },
  {
   "cell_type": "code",
   "execution_count": 7,
   "metadata": {},
   "outputs": [],
   "source": [
    "# converting the image from bgr to gray\n",
    "import numpy as np \n",
    "import cv2\n",
    "\n",
    "img=cv2.imread('images/luffy1.jpg')\n",
    "img=cv2.resize(img,(1280,720))\n",
    "img_gray=cv2.cvtColor(img,cv2.COLOR_BGR2GRAY)\n",
    "\n",
    "cv2.imshow(\"image\",img_gray)\n",
    "cv2.waitKey(0)\n",
    "cv2.destroyAllWindows()"
   ]
  },
  {
   "cell_type": "code",
   "execution_count": 1,
   "metadata": {},
   "outputs": [
    {
     "name": "stdout",
     "output_type": "stream",
     "text": [
      "46\n"
     ]
    },
    {
     "ename": "error",
     "evalue": "OpenCV(4.6.0) /io/opencv/modules/imgproc/src/demosaicing.cpp:1721: error: (-215:Assertion failed) scn == 1 && (dcn == 3 || dcn == 4) in function 'demosaicing'\n",
     "output_type": "error",
     "traceback": [
      "\u001b[0;31m---------------------------------------------------------------------------\u001b[0m",
      "\u001b[0;31merror\u001b[0m                                     Traceback (most recent call last)",
      "\u001b[1;32m/media/bikash/627648E67648BD13/MachineLearning/opencv/day13.ipynb Cell 9\u001b[0m in \u001b[0;36m<cell line: 13>\u001b[0;34m()\u001b[0m\n\u001b[1;32m     <a href='vscode-notebook-cell:/media/bikash/627648E67648BD13/MachineLearning/opencv/day13.ipynb#ch0000008?line=12'>13</a>\u001b[0m \u001b[39mfor\u001b[39;00m color \u001b[39min\u001b[39;00m img_color:\n\u001b[1;32m     <a href='vscode-notebook-cell:/media/bikash/627648E67648BD13/MachineLearning/opencv/day13.ipynb#ch0000008?line=13'>14</a>\u001b[0m     \u001b[39mprint\u001b[39m(color)\n\u001b[0;32m---> <a href='vscode-notebook-cell:/media/bikash/627648E67648BD13/MachineLearning/opencv/day13.ipynb#ch0000008?line=15'>16</a>\u001b[0m     color_img\u001b[39m=\u001b[39mcv2\u001b[39m.\u001b[39;49mcvtColor(img_res,color)\n\u001b[1;32m     <a href='vscode-notebook-cell:/media/bikash/627648E67648BD13/MachineLearning/opencv/day13.ipynb#ch0000008?line=16'>17</a>\u001b[0m     cv2\u001b[39m.\u001b[39mimshow(\u001b[39mf\u001b[39m\u001b[39m\"\u001b[39m\u001b[39mimage in \u001b[39m\u001b[39m{\u001b[39;00mcolor\u001b[39m}\u001b[39;00m\u001b[39m \u001b[39m\u001b[39m\"\u001b[39m,color_img)\n\u001b[1;32m     <a href='vscode-notebook-cell:/media/bikash/627648E67648BD13/MachineLearning/opencv/day13.ipynb#ch0000008?line=17'>18</a>\u001b[0m     cv2\u001b[39m.\u001b[39mwaitKey(\u001b[39m0\u001b[39m)\n",
      "\u001b[0;31merror\u001b[0m: OpenCV(4.6.0) /io/opencv/modules/imgproc/src/demosaicing.cpp:1721: error: (-215:Assertion failed) scn == 1 && (dcn == 3 || dcn == 4) in function 'demosaicing'\n"
     ]
    }
   ],
   "source": [
    "# converting the original image to all color format\n",
    "\n",
    "import numpy as np\n",
    "import cv2\n",
    "\n",
    "img=cv2.imread('images/luffy1.jpg')\n",
    "img_res=cv2.resize(img,(1280,720))\n",
    "img_color=[cv2.COLOR_BAYER_BG2BGR,cv2.COLOR_BAYER_BG2BGR_EA,cv2.COLOR_BAYER_BG2BGR_VNG,cv2.COLOR_BAYER_BG2BGRA,\n",
    "cv2.COLOR_BAYER_BG2GRAY,cv2.COLOR_BAYER_BG2RGB,cv2.COLOR_BAYER_BG2RGB_EA,cv2.COLOR_BAYER_BG2RGB_VNG,\n",
    "cv2.COLOR_YUV420sp2BGRA]\n",
    "img_color\n",
    "\n",
    "for color in img_color:\n",
    "    print(color)\n",
    "    \n",
    "    color_img=cv2.cvtColor(img_res,color)\n",
    "    cv2.imshow(f\"image in {color} \",color_img)\n",
    "    cv2.waitKey(0)\n",
    "    cv2.destroyAllWindows()"
   ]
  }
 ],
 "metadata": {
  "kernelspec": {
   "display_name": "Python 3.9.12 ('base')",
   "language": "python",
   "name": "python3"
  },
  "language_info": {
   "codemirror_mode": {
    "name": "ipython",
    "version": 3
   },
   "file_extension": ".py",
   "mimetype": "text/x-python",
   "name": "python",
   "nbconvert_exporter": "python",
   "pygments_lexer": "ipython3",
   "version": "3.9.12"
  },
  "orig_nbformat": 4,
  "vscode": {
   "interpreter": {
    "hash": "45b2608452541d9e8f6d2d71e3437791a4a689e6f2f61fd3938f0052a2d15340"
   }
  }
 },
 "nbformat": 4,
 "nbformat_minor": 2
}

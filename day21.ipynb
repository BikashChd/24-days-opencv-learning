{
 "cells": [
  {
   "cell_type": "markdown",
   "metadata": {},
   "source": [
    "## Morphological OPeration\n",
    "### Morphological transformation are some simple operation based on the image shape. It is normally performed on binary image. It needs two input one is original image and second one is structuring element or kernel which decides the nature of operation."
   ]
  },
  {
   "cell_type": "markdown",
   "metadata": {},
   "source": [
    "### Erosion \n",
    "#### the basic idea of erosion is just lik soil erosion only, it erodes away the boundaries of foreground object. The kernel slides through the image. A pixel in the orginal image will be considered one only if all the pixels in the image (either one or zero) will be considered 1, only if all the pixels under the kernel is 1,otherwise it is eroded to 0."
   ]
  },
  {
   "cell_type": "code",
   "execution_count": 13,
   "metadata": {},
   "outputs": [],
   "source": [
    "import cv2\n",
    "import numpy as np\n",
    "im_txt=cv2.imread('images/text.jpg',0)\n",
    "girl_img=cv2.imread('images/girl.jpg',0)\n",
    "road=cv2.imread('images/road.jpg',0)\n",
    "\n",
    "road=cv2.resize(road,(400,400))\n",
    "im_txt=cv2.resize(im_txt,(400,400))\n",
    "\n",
    "cv2.imshow(\"text\",im_txt)\n",
    "cv2.imshow('girl',girl_img)\n",
    "cv2.imshow('Road',road)\n",
    "\n",
    "cv2.waitKey(0)\n",
    "cv2.destroyAllWindows()"
   ]
  },
  {
   "cell_type": "code",
   "execution_count": 10,
   "metadata": {},
   "outputs": [],
   "source": [
    "# creating kernel\n",
    "kernel=np.ones((5,5),dtype=\"uint8\")"
   ]
  },
  {
   "cell_type": "code",
   "execution_count": 11,
   "metadata": {},
   "outputs": [],
   "source": [
    "# applying kernel\n",
    "e_girl=cv2.erode(girl_img,kernel,iterations=1)\n",
    "new_girl=np.hstack((girl_img,e_girl))\n",
    "cv2.imshow(\"new imae of girl\",new_girl)\n",
    "cv2.waitKey(0)\n",
    "cv2.destroyAllWindows()"
   ]
  },
  {
   "cell_type": "code",
   "execution_count": 12,
   "metadata": {},
   "outputs": [],
   "source": [
    "e_road=cv2.erode(road,kernel,iterations=1)\n",
    "cv2.imshow(\"original +erod road\",np.hstack((road,e_road)))\n",
    "cv2.waitKey()\n",
    "cv2.destroyAllWindows()"
   ]
  },
  {
   "cell_type": "code",
   "execution_count": 15,
   "metadata": {},
   "outputs": [],
   "source": [
    "e_text=cv2.erode(im_txt,kernel,iterations=1)\n",
    "cv2.imshow(\"original text and after erode\",np.hstack((im_txt,e_text)))\n",
    "cv2.waitKey(0)\n",
    "cv2.destroyAllWindows()"
   ]
  }
 ],
 "metadata": {
  "kernelspec": {
   "display_name": "Python 3.9.12 ('base')",
   "language": "python",
   "name": "python3"
  },
  "language_info": {
   "codemirror_mode": {
    "name": "ipython",
    "version": 3
   },
   "file_extension": ".py",
   "mimetype": "text/x-python",
   "name": "python",
   "nbconvert_exporter": "python",
   "pygments_lexer": "ipython3",
   "version": "3.9.12"
  },
  "orig_nbformat": 4,
  "vscode": {
   "interpreter": {
    "hash": "45b2608452541d9e8f6d2d71e3437791a4a689e6f2f61fd3938f0052a2d15340"
   }
  }
 },
 "nbformat": 4,
 "nbformat_minor": 2
}

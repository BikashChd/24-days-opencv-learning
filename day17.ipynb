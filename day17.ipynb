{
 "cells": [
  {
   "cell_type": "markdown",
   "metadata": {},
   "source": [
    "## color pixel extraction"
   ]
  },
  {
   "cell_type": "code",
   "execution_count": 1,
   "metadata": {},
   "outputs": [
    {
     "name": "stderr",
     "output_type": "stream",
     "text": [
      "qt.qpa.plugin: Could not find the Qt platform plugin \"wayland\" in \"/home/bikash/anaconda3/lib/python3.9/site-packages/cv2/qt/plugins\"\n",
      "Qt: Session management error: Could not open network socket\n"
     ]
    }
   ],
   "source": [
    "import numpy as np\n",
    "import cv2\n",
    "\n",
    "img_road=cv2.imread('images/road.jpg')\n",
    "img_res=cv2.resize(img_road,(1280,720))\n",
    "cv2.imshow(\"road image\",img_res)\n",
    "cv2.waitKey(0)\n",
    "cv2.destroyAllWindows()"
   ]
  },
  {
   "cell_type": "code",
   "execution_count": 2,
   "metadata": {},
   "outputs": [],
   "source": [
    "# converting into grayscale\n",
    "img_res_gray=cv2.cvtColor(img_res,cv2.COLOR_BGR2GRAY)\n",
    "cv2.imshow(\"road image in gray\",img_res_gray)\n",
    "cv2.waitKey(0)\n",
    "cv2.destroyAllWindows()\n"
   ]
  },
  {
   "cell_type": "markdown",
   "metadata": {},
   "source": [
    "## roadd margin detection using gray image"
   ]
  },
  {
   "cell_type": "code",
   "execution_count": 3,
   "metadata": {},
   "outputs": [
    {
     "data": {
      "text/plain": [
       "array([[46, 46, 46, ..., 42, 42, 42],\n",
       "       [46, 47, 47, ..., 43, 42, 42],\n",
       "       [47, 47, 47, ..., 43, 43, 42],\n",
       "       ...,\n",
       "       [37, 30, 29, ..., 40, 37, 30],\n",
       "       [37, 32, 31, ..., 48, 38, 20],\n",
       "       [35, 37, 38, ..., 36, 26, 29]], dtype=uint8)"
      ]
     },
     "execution_count": 3,
     "metadata": {},
     "output_type": "execute_result"
    }
   ],
   "source": [
    "img_res_gray"
   ]
  },
  {
   "cell_type": "code",
   "execution_count": 4,
   "metadata": {},
   "outputs": [],
   "source": [
    "img_gray_copy=np.copy(img_res_gray)\n",
    "img_gray_copy[img_gray_copy[:,:]<200]=0\n",
    "cv2.imshow(\"image gray copy\",img_gray_copy)\n",
    "cv2.waitKey(0)\n",
    "cv2.destroyAllWindows()"
   ]
  },
  {
   "cell_type": "code",
   "execution_count": null,
   "metadata": {},
   "outputs": [],
   "source": [
    "# img_gray_copy[:,300]"
   ]
  },
  {
   "cell_type": "markdown",
   "metadata": {},
   "source": [
    "## road margin detection using color image"
   ]
  },
  {
   "cell_type": "code",
   "execution_count": null,
   "metadata": {},
   "outputs": [],
   "source": [
    "img_bgr_copy=np.copy(img_res)\n"
   ]
  },
  {
   "cell_type": "code",
   "execution_count": null,
   "metadata": {},
   "outputs": [],
   "source": [
    "img_bgr_copy[(img_bgr_copy[:,:,0]<200) | (img_bgr_copy[:,:,1]<200) | (img_bgr_copy[:,:,2]<200)]=0\n",
    "cv2.imshow(\"detecting lane\",img_bgr_copy)\n",
    "cv2.waitKey(0)\n",
    "cv2.destroyAllWindows()"
   ]
  },
  {
   "cell_type": "markdown",
   "metadata": {},
   "source": [
    "## sign board detection"
   ]
  },
  {
   "cell_type": "code",
   "execution_count": null,
   "metadata": {},
   "outputs": [],
   "source": [
    "import numpy as np\n",
    "import cv2\n",
    "\n",
    "sgnbrd=cv2.imread('images/signboard.jpg')\n",
    "cv2.imshow(\"signboard\",sgnbrd)\n",
    "cv2.waitKey(0)\n",
    "cv2.destroyAllWindows()"
   ]
  },
  {
   "cell_type": "code",
   "execution_count": null,
   "metadata": {},
   "outputs": [],
   "source": [
    "sgnbrd_copy=np.copy(sgnbrd)\n",
    "sgnbrd_copy[(sgnbrd_copy[:,:,0]>50) | (sgnbrd_copy[:,:,1]<150) | (sgnbrd_copy[:,:,2]<150)]=0\n",
    "\n",
    "img_sgn=np.hstack((sgnbrd_copy,sgnbrd))\n",
    "cv2.imshow(\"signboard\",img_sgn)\n",
    "cv2.waitKey(0)\n",
    "cv2.destroyAllWindows()"
   ]
  },
  {
   "cell_type": "markdown",
   "metadata": {},
   "source": [
    "## redcolor pixel extraction"
   ]
  },
  {
   "cell_type": "code",
   "execution_count": null,
   "metadata": {},
   "outputs": [],
   "source": [
    "import numpy as np\n",
    "import cv2\n",
    "\n",
    "redPhoto=cv2.imread('images/r.jpg')\n",
    "redPhoto=cv2.resize(redPhoto,(400,400))\n",
    "cv2.imshow(\"red\",redPhoto)\n",
    "cv2.waitKey(0)\n",
    "cv2.destroyAllWindows()"
   ]
  },
  {
   "cell_type": "code",
   "execution_count": null,
   "metadata": {},
   "outputs": [],
   "source": [
    "red_copy=np.copy(redPhoto)\n",
    "red_copy[(red_copy[:,:,0]>50) | (red_copy[:,:,1]>50) | (red_copy[:,:,2]<90)]=0\n",
    "new_img=np.hstack((redPhoto,red_copy))\n",
    "cv2.imshow('red color pixel extraciton',new_img)\n",
    "cv2.waitKey(0)\n",
    "cv2.destroyAllWindows()"
   ]
  },
  {
   "cell_type": "markdown",
   "metadata": {},
   "source": [
    "## human shape extraction"
   ]
  },
  {
   "cell_type": "code",
   "execution_count": null,
   "metadata": {},
   "outputs": [],
   "source": [
    "import numpy as np \n",
    "import cv2\n",
    "hum_img=cv2.imread('images/human.jpg')\n",
    "cv2.imshow(\"human in sunset\",hum_img)\n",
    "cv2.waitKey(0)\n",
    "cv2.destroyAllWindows()"
   ]
  },
  {
   "cell_type": "code",
   "execution_count": null,
   "metadata": {},
   "outputs": [],
   "source": [
    "hum_copy=np.copy(hum_img)\n",
    "hum_copy[(hum_copy[:,:,0]>90) | (hum_copy[:,:,1]>90) | (hum_copy[:,:,2])>90]=255\n",
    "new_img=np.hstack((hum_img,hum_copy))\n",
    "cv2.imshow('human shape detection',new_img)\n",
    "cv2.waitKey(0)\n",
    "cv2.destroyAllWindows()"
   ]
  }
 ],
 "metadata": {
  "kernelspec": {
   "display_name": "Python 3.9.12 ('base')",
   "language": "python",
   "name": "python3"
  },
  "language_info": {
   "codemirror_mode": {
    "name": "ipython",
    "version": 3
   },
   "file_extension": ".py",
   "mimetype": "text/x-python",
   "name": "python",
   "nbconvert_exporter": "python",
   "pygments_lexer": "ipython3",
   "version": "3.9.12"
  },
  "orig_nbformat": 4,
  "vscode": {
   "interpreter": {
    "hash": "45b2608452541d9e8f6d2d71e3437791a4a689e6f2f61fd3938f0052a2d15340"
   }
  }
 },
 "nbformat": 4,
 "nbformat_minor": 2
}

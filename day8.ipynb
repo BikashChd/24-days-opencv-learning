{
 "cells": [
  {
   "cell_type": "markdown",
   "metadata": {},
   "source": [
    "## how do you draw rectangle and text in image ?\n"
   ]
  },
  {
   "cell_type": "code",
   "execution_count": 8,
   "metadata": {},
   "outputs": [],
   "source": [
    "import numpy as np\n",
    "import cv2\n",
    "\n",
    "img=cv2.imread('images/luffy1.jpg')\n",
    "img=cv2.resize(img,(1280,720))\n",
    "# cv2.rectangle(img,point1,poing2,colro,thickness,lintType,shift)\n",
    "pt1=(426,0)\n",
    "pt2=(864,300)\n",
    "color=(0,255,0)\n",
    "thickness=3\n",
    "lineType=cv2.LINE_4\n",
    "img_rect=cv2.rectangle(img,pt1,pt2,color,thickness,lineType)\n",
    "\n",
    "cv2.imshow(\"rectangle drawn over image\",img_rect)\n",
    "cv2.waitKey(0)\n",
    "cv2.destroyAllWindows()"
   ]
  },
  {
   "cell_type": "code",
   "execution_count": 25,
   "metadata": {},
   "outputs": [],
   "source": [
    "## how do you write text inside rectangle\n",
    "import numpy as np\n",
    "import cv2\n",
    "\n",
    "img=cv2.imread(\"images/luffy1.jpg\")\n",
    "img=cv2.resize(img,(1280,720))\n",
    "pt1=(426,0)\n",
    "pt2=(864,300)\n",
    "color=(0,255,0)\n",
    "thickness=3\n",
    "lineType=cv2.LINE_4\n",
    "img_rect=cv2.rectangle(img,pt1,pt2,color,thickness,lineType)\n",
    "\n",
    "# text over rectanlge\n",
    "text=\"Shanks\"\n",
    "org=(507,40)\n",
    "font=cv2.FONT_HERSHEY_SIMPLEX\n",
    "fontScale=3\n",
    "color1=(0,0,255)\n",
    "thickness1=3\n",
    "lineType1=cv2.LINE_AA\n",
    "bottomLeftOrigin=False\n",
    "\n",
    "imgText=cv2.putText(img_rect,text,org,font,fontScale,color1,thickness1,lineType1,bottomLeftOrigin)\n",
    "# imgText1=cv2.putText(img_rect,text=\"Dragon\",org=(),font,fontScale,color1,thickness1,lineType1,bottomLeftOrigin)\n",
    "\n",
    "\n",
    "\n",
    "\n",
    "cv2.imshow(\"rectangle drawn on image\",imgText)\n",
    "cv2.waitKey(0)\n",
    "cv2.destroyAllWindows()"
   ]
  },
  {
   "cell_type": "code",
   "execution_count": 29,
   "metadata": {},
   "outputs": [],
   "source": [
    "#  placing text above rectangle\n",
    "import numpy as np\n",
    "import cv2\n",
    "\n",
    "img=cv2.imread('images/luffy1.jpg')\n",
    "img=cv2.resize(img,(1280,720))\n",
    "pt1=(428,340)\n",
    "pt2=(864,570)\n",
    "# rectangle on image\n",
    "im_rect=cv2.rectangle(img,pt1,pt2,(0,255,0),3,cv2.LINE_4)\n",
    "\n",
    "# text over the rectangle\n",
    "im_text=cv2.putText(im_rect,\"Pirate King\",(428,320),cv2.FONT_HERSHEY_SIMPLEX,3,(0,0,255))\n",
    "cv2.imwrite(\"rectangeLuffy.jpg\",im_text)\n",
    "cv2.imshow(\"rectangel with text\",im_text)\n",
    "cv2.waitKey(0)\n",
    "cv2.destroyAllWindows()"
   ]
  },
  {
   "cell_type": "code",
   "execution_count": null,
   "metadata": {},
   "outputs": [],
   "source": []
  }
 ],
 "metadata": {
  "kernelspec": {
   "display_name": "Python 3.10.4 64-bit",
   "language": "python",
   "name": "python3"
  },
  "language_info": {
   "codemirror_mode": {
    "name": "ipython",
    "version": 3
   },
   "file_extension": ".py",
   "mimetype": "text/x-python",
   "name": "python",
   "nbconvert_exporter": "python",
   "pygments_lexer": "ipython3",
   "version": "3.10.4"
  },
  "orig_nbformat": 4,
  "vscode": {
   "interpreter": {
    "hash": "916dbcbb3f70747c44a77c7bcd40155683ae19c65e1c03b4aa3499c5328201f1"
   }
  }
 },
 "nbformat": 4,
 "nbformat_minor": 2
}

{
 "cells": [
  {
   "cell_type": "markdown",
   "metadata": {},
   "source": [
    "## how to draw rectangle,print text in rectangle?"
   ]
  },
  {
   "cell_type": "code",
   "execution_count": 14,
   "metadata": {},
   "outputs": [],
   "source": [
    "# how to draw rectangle in image\n",
    "import numpy as np\n",
    "import cv2\n",
    "img=cv2.imread(\"images/luffy2.jpg\")\n",
    "img=cv2.resize(img,(1280,720))\n",
    "# cv2.circle(img,center,radius,color,thickness,lineType)\n",
    "img_circle=cv2.circle(img,(600,257),200,(0,255,0),3,cv2.LINE_4)\n",
    "# cv2.putText(img_circle,\"Moneky D. Luffy\",(507,37),cv2.FONT_HERSHEY_SIMPLEX,1,(255,0,255),)\n",
    "cv2.imshow(\"image with circle\",img_circle)\n",
    "cv2.waitKey(0)\n",
    "cv2.destroyAllWindows()\n"
   ]
  },
  {
   "cell_type": "markdown",
   "metadata": {},
   "source": [
    "## how to draw circle and text in image"
   ]
  },
  {
   "cell_type": "code",
   "execution_count": null,
   "metadata": {},
   "outputs": [],
   "source": [
    "import numpy as np\n",
    "import cv2\n",
    "img=cv2.imread(\"images/luffy2.jpg\")\n",
    "img=cv2.resize(img,(1280,720))\n",
    "# cv2.circle(img,center,radius,color,thickness,lineType)\n",
    "img_circle=cv2.circle(img,(600,257),200,(0,255,0),3,cv2.LINE_4)\n",
    "img_text_circle=cv2.putText(img_circle,\"Moneky D. Luffy\",(507,37),cv2.FONT_HERSHEY_SIMPLEX,1,(255,0,255))\n",
    "cv2.imshow(\"image with circle\",img_text_circle)\n",
    "cv2.waitKey(0)\n",
    "cv2.destroyAllWindows()"
   ]
  }
 ],
 "metadata": {
  "kernelspec": {
   "display_name": "Python 3.10.4 64-bit",
   "language": "python",
   "name": "python3"
  },
  "language_info": {
   "name": "python",
   "version": "3.10.4"
  },
  "orig_nbformat": 4,
  "vscode": {
   "interpreter": {
    "hash": "916dbcbb3f70747c44a77c7bcd40155683ae19c65e1c03b4aa3499c5328201f1"
   }
  }
 },
 "nbformat": 4,
 "nbformat_minor": 2
}

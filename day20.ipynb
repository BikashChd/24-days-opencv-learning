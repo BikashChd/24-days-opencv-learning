{
 "cells": [
  {
   "cell_type": "markdown",
   "metadata": {},
   "source": [
    "## blur image using Gaussian Filter"
   ]
  },
  {
   "cell_type": "code",
   "execution_count": 2,
   "metadata": {},
   "outputs": [
    {
     "name": "stderr",
     "output_type": "stream",
     "text": [
      "qt.qpa.plugin: Could not find the Qt platform plugin \"wayland\" in \"/home/bikash/anaconda3/lib/python3.9/site-packages/cv2/qt/plugins\"\n"
     ]
    }
   ],
   "source": [
    "import numpy as np\n",
    "import cv2\n",
    "img_namra=cv2.imread(\"images/namra2.jpg\")\n",
    "img_namra=cv2.resize(img_namra,(640,800))\n",
    "cv2.imshow(\"original image\",img_namra)\n",
    "cv2.waitKey(0)\n",
    "cv2.destroyAllWindows()"
   ]
  },
  {
   "cell_type": "markdown",
   "metadata": {},
   "source": [
    "## blur image using Gaussian filter"
   ]
  },
  {
   "cell_type": "code",
   "execution_count": 3,
   "metadata": {},
   "outputs": [],
   "source": [
    "blur_g_img=cv2.GaussianBlur(img_namra,(3,3),sigmaX=34,sigmaY=34)\n",
    "cv2.imshow(\"original image\",img_namra)\n",
    "cv2.imshow(\"gaussina image\",blur_g_img)\n",
    "cv2.waitKey(0)\n",
    "cv2.destroyAllWindows()\n"
   ]
  },
  {
   "cell_type": "code",
   "execution_count": 5,
   "metadata": {},
   "outputs": [],
   "source": [
    "blur_g_img_51=cv2.GaussianBlur(img_namra,(51,51),sigmaX=4,sigmaY=3)\n",
    "cv2.imshow(\"original image\",img_namra)\n",
    "cv2.imshow(\"gaussina image\",blur_g_img_51)\n",
    "cv2.waitKey(0)\n",
    "cv2.destroyAllWindows()\n"
   ]
  },
  {
   "cell_type": "code",
   "execution_count": 6,
   "metadata": {},
   "outputs": [],
   "source": [
    "blur_g_img_51=cv2.GaussianBlur(img_namra,(1,51),sigmaX=4,sigmaY=3)\n",
    "cv2.imshow(\"original image\",img_namra)\n",
    "cv2.imshow(\"gaussina image\",blur_g_img_51)\n",
    "cv2.waitKey(0)\n",
    "cv2.destroyAllWindows()"
   ]
  },
  {
   "cell_type": "markdown",
   "metadata": {},
   "source": [
    "## stretch image vertically\n"
   ]
  },
  {
   "cell_type": "code",
   "execution_count": 11,
   "metadata": {},
   "outputs": [],
   "source": [
    "blur_g_img_51=cv2.GaussianBlur(img_namra,(1,99),sigmaX=4,sigmaY=30)\n",
    "cv2.imshow(\"original image\",img_namra)\n",
    "cv2.imshow(\"gaussina image\",blur_g_img_51)\n",
    "cv2.waitKey(0)\n",
    "cv2.destroyAllWindows()"
   ]
  },
  {
   "cell_type": "markdown",
   "metadata": {},
   "source": [
    "## stretch image horizontally"
   ]
  },
  {
   "cell_type": "code",
   "execution_count": 10,
   "metadata": {},
   "outputs": [],
   "source": [
    "blur_g_img_51=cv2.GaussianBlur(img_namra,(99,1),sigmaX=40,sigmaY=3)\n",
    "cv2.imshow(\"original image\",img_namra)\n",
    "cv2.imshow(\"gaussina image\",blur_g_img_51)\n",
    "cv2.waitKey(0)\n",
    "cv2.destroyAllWindows()"
   ]
  }
 ],
 "metadata": {
  "kernelspec": {
   "display_name": "Python 3.9.12 ('base')",
   "language": "python",
   "name": "python3"
  },
  "language_info": {
   "codemirror_mode": {
    "name": "ipython",
    "version": 3
   },
   "file_extension": ".py",
   "mimetype": "text/x-python",
   "name": "python",
   "nbconvert_exporter": "python",
   "pygments_lexer": "ipython3",
   "version": "3.9.12"
  },
  "orig_nbformat": 4,
  "vscode": {
   "interpreter": {
    "hash": "45b2608452541d9e8f6d2d71e3437791a4a689e6f2f61fd3938f0052a2d15340"
   }
  }
 },
 "nbformat": 4,
 "nbformat_minor": 2
}

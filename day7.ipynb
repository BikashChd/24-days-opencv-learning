{
 "cells": [
  {
   "cell_type": "markdown",
   "metadata": {},
   "source": [
    "### how to put text over the image ?\n",
    "cv2.putText(image,text,org,font,fontscale,color,thickness)"
   ]
  },
  {
   "cell_type": "code",
   "execution_count": 2,
   "metadata": {},
   "outputs": [],
   "source": [
    "import numpy as np \n",
    "import cv2\n",
    "img=cv2.imread(\"images/wildflowers (1).tif\")\n",
    "text=\"flower photo\"\n",
    "org=(255,255)\n",
    "font=cv2.FONT_HERSHEY_COMPLEX\n",
    "fontScale=6\n",
    "color=(0,0,255)\n",
    "thickness=3\n",
    "lineType=cv2.LINE_AA\n",
    "bottomLeftOrigin=False\n",
    "imgText=cv2.putText(img,text,org,font,fontScale,color,3)\n",
    "cv2.imshow(\"image\",imgText)\n",
    "\n",
    "cv2.waitKey(0)\n",
    "cv2.destroyAllWindows()\n"
   ]
  },
  {
   "cell_type": "code",
   "execution_count": 4,
   "metadata": {},
   "outputs": [],
   "source": [
    "import numpy as np \n",
    "import cv2\n",
    "img=cv2.imread(\"images/wildflowers (1).tif\")\n",
    "text=\"flower photo\"\n",
    "org=(255,255)\n",
    "font=cv2.FONT_HERSHEY_COMPLEX\n",
    "fontScale=6\n",
    "color=(0,0,255)\n",
    "thickness=3\n",
    "lineType=cv2.LINE_AA\n",
    "bottomLeftOrigin=False\n",
    "imgText=cv2.putText(img,text,org,font,fontScale,color,thickness,lineType,bottomLeftOrigin)\n",
    "imgText=cv2.putText(img,text,org,font, fontScale,color,thickness,lineType,bottomLeftOrigin=True)\n",
    "cv2.imshow(\"image\",imgText)\n",
    "\n",
    "cv2.waitKey(0)\n",
    "cv2.destroyAllWindows()\n"
   ]
  }
 ],
 "metadata": {
  "kernelspec": {
   "display_name": "Python 3.10.4 64-bit",
   "language": "python",
   "name": "python3"
  },
  "language_info": {
   "codemirror_mode": {
    "name": "ipython",
    "version": 3
   },
   "file_extension": ".py",
   "mimetype": "text/x-python",
   "name": "python",
   "nbconvert_exporter": "python",
   "pygments_lexer": "ipython3",
   "version": "3.10.4"
  },
  "orig_nbformat": 4,
  "vscode": {
   "interpreter": {
    "hash": "916dbcbb3f70747c44a77c7bcd40155683ae19c65e1c03b4aa3499c5328201f1"
   }
  }
 },
 "nbformat": 4,
 "nbformat_minor": 2
}

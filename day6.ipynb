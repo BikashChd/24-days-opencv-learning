{
 "cells": [
  {
   "cell_type": "markdown",
   "metadata": {},
   "source": [
    "### how to make video from numpy array \n"
   ]
  },
  {
   "cell_type": "code",
   "execution_count": 11,
   "metadata": {},
   "outputs": [
    {
     "ename": "TypeError",
     "evalue": "Cannot interpret '3' as a data type",
     "output_type": "error",
     "traceback": [
      "\u001b[0;31m---------------------------------------------------------------------------\u001b[0m",
      "\u001b[0;31mTypeError\u001b[0m                                 Traceback (most recent call last)",
      "\u001b[1;32m/media/bikash/627648E67648BD13/MachineLearning/opencv/day6.ipynb Cell 2\u001b[0m in \u001b[0;36m<cell line: 13>\u001b[0;34m()\u001b[0m\n\u001b[1;32m     <a href='vscode-notebook-cell:/media/bikash/627648E67648BD13/MachineLearning/opencv/day6.ipynb#ch0000002?line=11'>12</a>\u001b[0m video\u001b[39m=\u001b[39mcv2\u001b[39m.\u001b[39mVideoWriter(\u001b[39m'\u001b[39m\u001b[39mtest.mp4\u001b[39m\u001b[39m'\u001b[39m,fourcc,\u001b[39mfloat\u001b[39m(fps),(width,height))\n\u001b[1;32m     <a href='vscode-notebook-cell:/media/bikash/627648E67648BD13/MachineLearning/opencv/day6.ipynb#ch0000002?line=12'>13</a>\u001b[0m \u001b[39mfor\u001b[39;00m frame_count \u001b[39min\u001b[39;00m \u001b[39mrange\u001b[39m(fps\u001b[39m*\u001b[39msec):\n\u001b[0;32m---> <a href='vscode-notebook-cell:/media/bikash/627648E67648BD13/MachineLearning/opencv/day6.ipynb#ch0000002?line=13'>14</a>\u001b[0m     img\u001b[39m=\u001b[39mnp\u001b[39m.\u001b[39;49mrandom\u001b[39m.\u001b[39;49mrandint(\u001b[39m0\u001b[39;49m,\u001b[39m255\u001b[39;49m,(height,width),channel)\n\u001b[1;32m     <a href='vscode-notebook-cell:/media/bikash/627648E67648BD13/MachineLearning/opencv/day6.ipynb#ch0000002?line=14'>15</a>\u001b[0m     video\u001b[39m.\u001b[39mwrite(img)\n\u001b[1;32m     <a href='vscode-notebook-cell:/media/bikash/627648E67648BD13/MachineLearning/opencv/day6.ipynb#ch0000002?line=15'>16</a>\u001b[0m video\u001b[39m.\u001b[39mrelease()\n",
      "File \u001b[0;32mmtrand.pyx:727\u001b[0m, in \u001b[0;36mnumpy.random.mtrand.RandomState.randint\u001b[0;34m()\u001b[0m\n",
      "\u001b[0;31mTypeError\u001b[0m: Cannot interpret '3' as a data type"
     ]
    }
   ],
   "source": [
    "import cv2\n",
    "import numpy as np\n",
    "import os\n",
    "height=1280\n",
    "width=720\n",
    "channel=3\n",
    "\n",
    "fps=30\n",
    "sec=5\n",
    "\n",
    "fourcc=cv2.VideoWriter_fourcc(*'mp42')\n",
    "video=cv2.VideoWriter('test.mp4',fourcc,float(fps),(width,height))\n",
    "for frame_count in range(fps*sec):\n",
    "    img=np.random.randint(0,255,(height,width),channel)\n",
    "    video.write(img)\n",
    "video.release()\n"
   ]
  },
  {
   "cell_type": "markdown",
   "metadata": {},
   "source": [
    "### how to make video from images\n"
   ]
  }
 ],
 "metadata": {
  "kernelspec": {
   "display_name": "Python 3.10.4 64-bit",
   "language": "python",
   "name": "python3"
  },
  "language_info": {
   "name": "python",
   "version": "3.10.4"
  },
  "orig_nbformat": 4,
  "vscode": {
   "interpreter": {
    "hash": "916dbcbb3f70747c44a77c7bcd40155683ae19c65e1c03b4aa3499c5328201f1"
   }
  }
 },
 "nbformat": 4,
 "nbformat_minor": 2
}
